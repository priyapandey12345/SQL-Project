{
 "cells": [
  {
   "cell_type": "code",
   "execution_count": null,
   "id": "b7586ee3",
   "metadata": {},
   "outputs": [],
   "source": [
    "USE SYS;\n",
    "create table books_table(\n",
    "book_id int primary key,\n",
    "title varchar (100), \n",
    "author varchar (100),\n",
    "genre varchar (100), \n",
    "publication_date date,\n",
    "isbn VARCHAR (200), \n",
    "quantity_available int);"
   ]
  },
  {
   "cell_type": "code",
   "execution_count": null,
   "id": "0704ad03",
   "metadata": {},
   "outputs": [],
   "source": [
    "INSERT INTO books_table (book_id, title, author, genre, publication_date, isbn, quantity_available) \n",
    "VALUES \n",
    "(1, 'Harry Potter', 'J.K. Rowling', 'Fantasy', '1997-06-26', '9788700631625', 5),\n",
    "(2, 'To Kill a Mockingbird', 'Harper Lee', 'Fiction', '1960-07-11', '9780061120084', 3),\n",
    "(3, 'The Great Gatsby', 'F. Scott Fitzgerald', 'Classic', '1925-04-10', '9780743273565', 2);\n"
   ]
  },
  {
   "cell_type": "code",
   "execution_count": null,
   "id": "33cee825",
   "metadata": {},
   "outputs": [],
   "source": [
    "USE SYS;\n",
    "create table Authors_Table(\n",
    "author_id int primary key,\n",
    "author_name varchar (100));\n"
   ]
  },
  {
   "cell_type": "code",
   "execution_count": null,
   "id": "1742888e",
   "metadata": {},
   "outputs": [],
   "source": [
    "INSERT INTO Authors_Table (author_id, author_name) \n",
    "VALUES \n",
    "(1, 'J.K. Rowling'),\n",
    "(2, 'Harper Lee'),\n",
    "(3, 'F. Scott Fitzgerald');\n",
    "\n"
   ]
  },
  {
   "cell_type": "code",
   "execution_count": null,
   "id": "05bc8e3d",
   "metadata": {},
   "outputs": [],
   "source": [
    "USE SYS;\n",
    "create table Members_Table(\n",
    "member_id  int primary key,\n",
    "member_name varchar (100),\n",
    "member_email varchar (60) unique,\n",
    "member_phone varchar (20));\n"
   ]
  },
  {
   "cell_type": "code",
   "execution_count": null,
   "id": "1f1495f8",
   "metadata": {},
   "outputs": [],
   "source": [
    "INSERT INTO Members_Table (member_id, member_name, member_email, member_phone) \n",
    "VALUES \n",
    "(1, 'John Doe', 'john.doe@example.com', '123-456-7890'),\n",
    "(2, 'Jane Smith', 'jane.smith@example.com', '987-654-3210');\n",
    "\n"
   ]
  },
  {
   "cell_type": "code",
   "execution_count": null,
   "id": "127d0b18",
   "metadata": {},
   "outputs": [],
   "source": [
    "USE SYS;\n",
    "create table Borrowings_Table(\n",
    "borrowing_id  int primary key,\n",
    "book_id int,\n",
    "member_id int,\n",
    "borrowing_date date,\n",
    "return_date date,\n",
    "is_returned boolean,\n",
    "FOREIGN KEY (book_id) REFERENCES books_table (book_id),\n",
    "FOREIGN KEY (member_id) REFERENCES Members_Table (member_id));\n"
   ]
  },
  {
   "cell_type": "code",
   "execution_count": null,
   "id": "9e9119af",
   "metadata": {},
   "outputs": [],
   "source": [
    "INSERT INTO Borrowings_Table (borrowing_id, book_id, member_id, borrowing_date, return_date, is_returned) \n",
    "VALUES \n",
    "(1, 1, 1, '2024-02-10', '2024-02-20', TRUE),\n",
    "(2, 2, 2, '2024-02-15', NULL, FALSE);\n",
    "\n"
   ]
  },
  {
   "cell_type": "code",
   "execution_count": null,
   "id": "9b19bb6b",
   "metadata": {},
   "outputs": [],
   "source": [
    "USE SYS;\n",
    "create table Publishers_Table(\n",
    "publisher_id  int primary key,\n",
    "publisher_name VARCHAR (200),\n",
    "publisher_country VARCHAR (100));\n"
   ]
  },
  {
   "cell_type": "code",
   "execution_count": null,
   "id": "94578544",
   "metadata": {},
   "outputs": [],
   "source": [
    "INSERT INTO Publishers_Table (publisher_id, publisher_name, publisher_country) \n",
    "VALUES \n",
    "(1, 'Penguin Random House', 'United States'),\n",
    "(2, 'HarperCollins', 'United Kingdom');\n"
   ]
  },
  {
   "cell_type": "code",
   "execution_count": null,
   "id": "787c9735",
   "metadata": {},
   "outputs": [],
   "source": [
    "USE SYS;\n",
    "CREATE TABLE Book_Copies (\n",
    "    copy_id INT PRIMARY KEY,\n",
    "    book_id INT,\n",
    "    copy_number VARCHAR(50),\n",
    "    COPY_condition VARCHAR(50),\n",
    "    shelf_location VARCHAR(50),\n",
    "    FOREIGN KEY (book_id) REFERENCES books_table(book_id)\n",
    ");\n"
   ]
  },
  {
   "cell_type": "code",
   "execution_count": null,
   "id": "16c8df5e",
   "metadata": {},
   "outputs": [],
   "source": [
    "INSERT INTO Book_Copies (copy_id, book_id, copy_number, COPY_condition, shelf_location) \n",
    "VALUES \n",
    "(1, 1, '001', 'Good', 'A1'),\n",
    "(2, 1, '002', 'Fair', 'B3');\n"
   ]
  },
  {
   "cell_type": "code",
   "execution_count": null,
   "id": "8568e1bf",
   "metadata": {},
   "outputs": [],
   "source": [
    "USE SYS;\n",
    "CREATE TABLE AuthorsBooksMapping (\n",
    "    author_book_id INT PRIMARY KEY,\n",
    "    author_id INT,\n",
    "    book_id INT,\n",
    "    FOREIGN KEY (author_id) REFERENCES Authors_Table(author_id),\n",
    "    FOREIGN KEY (book_id) REFERENCES books_table(book_id)\n",
    ");\n"
   ]
  },
  {
   "cell_type": "code",
   "execution_count": null,
   "id": "7c0d4827",
   "metadata": {},
   "outputs": [],
   "source": [
    "INSERT INTO AuthorsBooksMapping (author_book_id, author_id, book_id) \n",
    "VALUES \n",
    "(1, 1, 1),\n",
    "(2, 2, 2);\n"
   ]
  },
  {
   "cell_type": "code",
   "execution_count": null,
   "id": "c12307fd",
   "metadata": {},
   "outputs": [],
   "source": [
    "USE SYS;\n",
    "CREATE TABLE Reviews (\n",
    "    review_id INT PRIMARY KEY,\n",
    "    book_id INT,\n",
    "    member_id INT,\n",
    "    rating DECIMAL(3, 1), \n",
    "    review_text TEXT,\n",
    "    review_date DATE,\n",
    "    FOREIGN KEY (book_id) REFERENCES books_table(book_id),\n",
    "    FOREIGN KEY (member_id) REFERENCES Members_Table(member_id)\n",
    ");\n"
   ]
  },
  {
   "cell_type": "code",
   "execution_count": null,
   "id": "e35ac09f",
   "metadata": {},
   "outputs": [],
   "source": [
    "INSERT INTO Reviews (review_id, book_id, member_id, rating, review_text, review_date) \n",
    "VALUES \n",
    "(1, 1, 1, 4.5, 'A classic masterpiece.', '2024-02-12'),\n",
    "(2, 2, 2, 5.0, 'Absolutely loved it!', '2024-02-18');\n"
   ]
  },
  {
   "cell_type": "code",
   "execution_count": null,
   "id": "c8fe38a0",
   "metadata": {},
   "outputs": [],
   "source": [
    "USE SYS;\n",
    "CREATE TABLE Transactions (\n",
    "    transaction_id INT PRIMARY KEY,\n",
    "    member_id INT,\n",
    "    transaction_date DATE,\n",
    "    transaction_type VARCHAR(50),\n",
    "    amount_paid DECIMAL(10, 2),\n",
    "    FOREIGN KEY (member_id) REFERENCES Members_Table(member_id)\n",
    ");\n"
   ]
  },
  {
   "cell_type": "code",
   "execution_count": null,
   "id": "7df781fc",
   "metadata": {},
   "outputs": [],
   "source": [
    "INSERT INTO Transactions (transaction_id, member_id, transaction_date, transaction_type, amount_paid) \n",
    "VALUES \n",
    "(1, 1, '2024-02-10', 'Borrow', 0),\n",
    "(2, 2, '2024-02-15', 'Borrow', 0);\n"
   ]
  },
  {
   "cell_type": "code",
   "execution_count": null,
   "id": "5b2f939b",
   "metadata": {},
   "outputs": [],
   "source": [
    "#1.List all books borrowed by a specific member:\n",
    "SELECT b.title, b.author, b.genre, b.publication_date, b.isbn\n",
    "FROM books_table b\n",
    "JOIN Borrowings_Table bor ON b.book_id = bor.book_id\n",
    "JOIN Members_Table m ON bor.member_id = m.member_id\n",
    "WHERE m.member_name = 'John Doe';\n"
   ]
  },
  {
   "cell_type": "code",
   "execution_count": null,
   "id": "92deb53b",
   "metadata": {},
   "outputs": [],
   "source": [
    "#2. \n",
    "SELECT genre, COUNT(*) AS genre_count\n",
    "FROM books_table\n",
    "GROUP BY genre\n",
    "ORDER BY genre_count DESC;\n"
   ]
  },
  {
   "cell_type": "code",
   "execution_count": null,
   "id": "32721636",
   "metadata": {},
   "outputs": [],
   "source": [
    "#3. \n",
    "SELECT b.title, AVG(r.rating) AS average_rating\n",
    "FROM books_table b\n",
    "JOIN Reviews r ON b.book_id = r.book_id\n",
    "GROUP BY b.title\n",
    "ORDER BY average_rating DESC\n",
    "LIMIT 1;\n"
   ]
  },
  {
   "cell_type": "code",
   "execution_count": null,
   "id": "1d7460fa",
   "metadata": {},
   "outputs": [],
   "source": [
    "#4.\n",
    "SELECT m.member_id, m.member_name\n",
    "FROM Members_Table m\n",
    "JOIN Borrowings_Table bor ON m.member_id = bor.member_id\n",
    "GROUP BY m.member_id, m.member_name\n",
    "HAVING COUNT(bor.borrowing_id) > 5;\n",
    "\n"
   ]
  },
  {
   "cell_type": "code",
   "execution_count": null,
   "id": "2a70f9b8",
   "metadata": {},
   "outputs": [],
   "source": [
    "#5.\n",
    "SELECT m.member_id, m.member_name\n",
    "FROM Members_Table m\n",
    "LEFT JOIN Borrowings_Table bor ON m.member_id = bor.member_id\n",
    "GROUP BY m.member_id, m.member_name\n",
    "HAVING COUNT(bor.borrowing_id) < 5 OR COUNT(bor.borrowing_id) IS NULL;\n",
    "\n"
   ]
  },
  {
   "cell_type": "code",
   "execution_count": null,
   "id": "120169b6",
   "metadata": {},
   "outputs": [],
   "source": [
    "#6.\n",
    "SELECT b.title, AVG(r.rating) AS average_rating, COUNT(r.review_id) AS review_count\n",
    "FROM books_table b\n",
    "JOIN Reviews r ON b.book_id = r.book_id\n",
    "GROUP BY b.book_id, b.title\n",
    "HAVING COUNT(r.review_id) >= 5\n",
    "ORDER BY AVG(r.rating) DESC;\n"
   ]
  },
  {
   "cell_type": "code",
   "execution_count": null,
   "id": "d55df88c",
   "metadata": {},
   "outputs": [],
   "source": [
    "#7. \n",
    "SELECT SUM(amount_paid) AS total_revenue\n",
    "FROM Transactions\n",
    "WHERE transaction_type = 'purchase';\n"
   ]
  },
  {
   "cell_type": "code",
   "execution_count": null,
   "id": "1372d98b",
   "metadata": {},
   "outputs": [],
   "source": [
    "#8. \n",
    "SELECT \n",
    "    b.title AS book_title, \n",
    "    a.author_name AS author\n",
    "FROM \n",
    "    books_table b\n",
    "JOIN \n",
    "    Authors_Table a ON b.author = a.author_id;"
   ]
  },
  {
   "cell_type": "code",
   "execution_count": null,
   "id": "b0e69107",
   "metadata": {},
   "outputs": [],
   "source": [
    "#9. \n",
    "SELECT b.title AS book_title, b.quantity_available\n",
    "FROM Books_Table b\n",
    "LEFT JOIN Borrowings_Table bor ON b.book_id = bor.book_id\n",
    "WHERE bor.book_id IS NULL OR bor.is_returned = 'false';\n"
   ]
  },
  {
   "cell_type": "code",
   "execution_count": null,
   "id": "dc169399",
   "metadata": {},
   "outputs": [],
   "source": [
    "#10.\n",
    "SELECT m.member_id, m.member_name\n",
    "FROM Members_Table m\n",
    "JOIN Borrowings_Table bor ON m.member_id = bor.member_id\n",
    "WHERE bor.return_date < CURDATE() AND bor.is_returned = 'false';\n"
   ]
  },
  {
   "cell_type": "code",
   "execution_count": null,
   "id": "8977dab2",
   "metadata": {},
   "outputs": [],
   "source": [
    "#11.\n",
    "SELECT b.title AS book_title, COUNT(*) AS borrow_count\n",
    "FROM books_table b\n",
    "JOIN Borrowings_Table bor ON b.book_id = bor.book_id\n",
    "GROUP BY b.book_id, b.title\n",
    "ORDER BY borrow_count DESC\n",
    "LIMIT 10;\n"
   ]
  },
  {
   "cell_type": "code",
   "execution_count": null,
   "id": "c209b155",
   "metadata": {},
   "outputs": [],
   "source": [
    "#12.\n",
    "SELECT AVG(DATEDIFF(return_date, borrowing_date)) AS average_borrow_duration\n",
    "FROM Borrowings_Table\n",
    "WHERE is_returned = true;\n",
    "\n",
    "\n",
    "SELECT b.title AS book_title, COUNT(*) AS borrow_count\n",
    "FROM Borrowings_Table bor\n",
    "JOIN Books_Table b ON bor.book_id = b.book_id\n",
    "GROUP BY bor.book_id\n",
    "ORDER BY borrow_count DESC\n",
    "LIMIT 10;"
   ]
  },
  {
   "cell_type": "code",
   "execution_count": null,
   "id": "241f6813",
   "metadata": {},
   "outputs": [],
   "source": [
    "#13.\n",
    "SELECT YEAR(publication_date) AS publication_year, COUNT(*) AS total_books_published\n",
    "FROM books_Table\n",
    "GROUP BY YEAR(publication_date)\n",
    "ORDER BY publication_year;\n",
    "\n"
   ]
  },
  {
   "cell_type": "code",
   "execution_count": null,
   "id": "b34dcb96",
   "metadata": {},
   "outputs": [],
   "source": [
    "#14.\n",
    "SELECT m.member_id, m.member_name\n",
    "FROM Members_Table m\n",
    "JOIN Borrowings_Table bor ON m.member_id = bor.member_id\n",
    "GROUP BY m.member_id, m.member_name\n",
    "HAVING COUNT(bor.borrowing_id) > 1;\n",
    "\n"
   ]
  },
  {
   "cell_type": "code",
   "execution_count": null,
   "id": "a3325e8a",
   "metadata": {},
   "outputs": [],
   "source": [
    "#15. \n",
    "SELECT \n",
    "    b.title AS book_title, \n",
    "    a.author_name AS author, \n",
    "    AVG(r.rating) AS average_rating\n",
    "FROM \n",
    "    Books_Table b\n",
    "JOIN \n",
    "    AuthorsBooksMapping ab ON b.book_id = ab.book_id\n",
    "JOIN \n",
    "    Authors_Table a ON ab.author_id = a.author_id\n",
    "LEFT JOIN \n",
    "    Reviews r ON b.book_id = r.book_id\n",
    "GROUP BY \n",
    "    b.book_id, b.title, a.author_name;\n"
   ]
  },
  {
   "cell_type": "code",
   "execution_count": null,
   "id": "601e6f5d",
   "metadata": {},
   "outputs": [],
   "source": [
    "#16.\n",
    "SELECT \n",
    "    b.book_id,\n",
    "    b.title AS book_title,\n",
    "    COUNT(bc.copy_id) AS total_copies_available\n",
    "FROM \n",
    "    Books_Table b\n",
    "LEFT JOIN \n",
    "    Book_Copies bc ON b.book_id = bc.book_id\n",
    "GROUP BY \n",
    "    b.book_id, b.title;"
   ]
  },
  {
   "cell_type": "code",
   "execution_count": null,
   "id": "337f2654",
   "metadata": {},
   "outputs": [],
   "source": [
    "#17. Create a view of transaction table and provide privilege to another user. The user can view only member id and transaction date and privilege should be to select id who made transaction on any specific date.\n",
    "CREATE VIEW RestrictedTransactionView AS\n",
    "SELECT member_id, transaction_date\n",
    "FROM Transactions_Table;\n",
    "\n",
    "GRANT SELECT ON RestrictedTransactionView TO 'username'@'hostname';\n"
   ]
  }
 ],
 "metadata": {
  "kernelspec": {
   "display_name": "Python 3 (ipykernel)",
   "language": "python",
   "name": "python3"
  },
  "language_info": {
   "codemirror_mode": {
    "name": "ipython",
    "version": 3
   },
   "file_extension": ".py",
   "mimetype": "text/x-python",
   "name": "python",
   "nbconvert_exporter": "python",
   "pygments_lexer": "ipython3",
   "version": "3.9.13"
  }
 },
 "nbformat": 4,
 "nbformat_minor": 5
}
